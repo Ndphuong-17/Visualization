{
  "metadata": {
    "language_info": {
      "codemirror_mode": {
        "name": "python",
        "version": 3
      },
      "file_extension": ".py",
      "mimetype": "text/x-python",
      "name": "python",
      "nbconvert_exporter": "python",
      "pygments_lexer": "ipython3",
      "version": "3.8"
    },
    "kernelspec": {
      "name": "python",
      "display_name": "Python (Pyodide)",
      "language": "python"
    }
  },
  "nbformat_minor": 4,
  "nbformat": 4,
  "cells": [
    {
      "cell_type": "code",
      "source": "import pandas as pd\nimport numpy as np\nimport matplotlib.pyplot as plt\nimport scipy.stats as stats\nimport re\nimport statsmodels.api as sm\nfrom statsmodels.formula.api import ols\n\n%matplotlib inline\npd.set_option('display.max_rows', None)\npd.set_option('display.max_columns', None)",
      "metadata": {
        "trusted": true
      },
      "execution_count": 224,
      "outputs": []
    },
    {
      "cell_type": "code",
      "source": "def get_num_columns(database: pd.DataFrame) -> pd.DataFrame:\n  _nums = database.select_dtypes(include = 'number').columns.to_list()\n\n  return database[_nums].copy()\n\ndef get_obj_columns(database: pd.DataFrame) -> pd.DataFrame:\n  _objs = database.select_dtypes(include = 'object').columns.to_list()\n\n  return database[ _objs].copy()\n\ndef check_correlation_p_value(column1: pd.Series, column2: pd.Series,\n                              coef_threshold = 0.5, p_threshold = 0.05,\n                              include = None) -> list:\n\n\n  includes = [None, 'all']\n  assert include in includes, \"include just be None or 'all'\"\n\n  _coef, _p_value = stats.pearsonr(column1, column2)\n\n  if _p_value > p_threshold:\n    return False\n  if _coef >= coef_threshold or _coef <= -1.0*coef_threshold:\n    if include == 'all':\n      return [True, _coef, _p_value]\n    return True\n\n  return False\n\ndef check_affection(database: pd.DataFrame, target_column: str, coef_threshold = 0.1, p_threshold = 0.05, include = None) -> list:\n\n\n\n  includes = [None, 'all']\n  assert include in includes, \"include just be None or 'all'\"\n  database = get_num_columns(database)\n\n  _affection = []\n\n  for i in database.columns:\n    if i == target_column:\n      continue\n    _affect = check_correlation_p_value(database[i], database[target_column], coef_threshold = coef_threshold, p_threshold = p_threshold, include=include)\n    if _affect and include == 'all':\n      _affection.append([i, _affect[1], _affect[2]])\n    elif _affect:\n      _affection.append(i)\n\n\n  return _affection\n\ndef get_strong_week_affection(database: pd.DataFrame, target_column: str, coef_threshold = [0.3, 0.5, 0.8], p_threshold = 0.05) -> dict:\n  _strong_affection = []\n  _week_affection = []\n  _median_affection = []\n  database = get_num_columns(database)\n\n  _affection = check_affection(database= database, target_column= target_column, coef_threshold=coef_threshold[0], p_threshold=p_threshold, include = 'all')\n\n  for column in _affection:\n    X = {'name': column[0],\n         'coef': column[1],\n         'p_value': column[2]}\n    if X['coef'] <= -1*coef_threshold[2] or  X['coef'] >= 1*coef_threshold[2]:\n      _strong_affection.append(X)\n    elif X['coef'] >= -1*coef_threshold[1] and X['coef'] <= coef_threshold[1]:\n      _week_affection.append(X)\n    else:\n      _median_affection.append(X)\n\n\n\n  return {'strong_affection': _strong_affection,\n          'week_affection': _week_affection,\n          'median_affection': _median_affection}\n\n\ndef get_category_influence(df:pd.DataFrame, target_column, get_top = None, plimit = 1e-04, ascending =True):\n  _df = get_obj_columns(df)\n  category = list(_df.columns)\n  _category = [re.sub('\\W', '', i) for i in category]\n  _df.columns = _category\n  _df[target_column] = df[target_column]\n\n\n  model = ols(target_column + ' ~ ' + ' + '.join(_category), data = _df).fit()\n  # thực hiện kiểm định ANOVA\n  anova_table = sm.stats.anova_lm(model).reset_index()\n\n  category.append('Residual')\n  anova_table['index'] = category\n\n  if ascending:\n    anova_table = anova_table[anova_table['PR(>F)'] < plimit]\n  else:\n    anova_table = anova_table[anova_table['PR(>F)'] >= plimit]\n\n\n  try:\n    get_top = int(get_top)\n\n    anova_table = anova_table.sort_values(by = 'PR(>F)', ascending= ascending)[:get_top]\n\n    return anova_table['index'].to_list(), anova_table['PR(>F)'].to_list()\n  except:\n    anova_table = anova_table.sort_values(by = 'PR(>F)', ascending= ascending)\n    return anova_table['index'].to_list(), anova_table['PR(>F)'].to_list()\n",
      "metadata": {
        "trusted": true
      },
      "execution_count": 225,
      "outputs": []
    },
    {
      "cell_type": "code",
      "source": "",
      "metadata": {
        "trusted": true
      },
      "execution_count": null,
      "outputs": []
    },
    {
      "cell_type": "code",
      "source": "## read data\ndf = pd.read_csv('Model-Evaluation-and-Refinement-R.csv')\ndf.head()",
      "metadata": {
        "trusted": true
      },
      "execution_count": 226,
      "outputs": [
        {
          "execution_count": 225,
          "output_type": "execute_result",
          "data": {
            "text/plain": "   Unnamed: 0.1  Unnamed: 0  symboling  normalized-losses         make  \\\n0             0           0          3                122  alfa-romero   \n1             1           1          3                122  alfa-romero   \n2             2           2          1                122  alfa-romero   \n3             3           3          2                164         audi   \n4             4           4          2                164         audi   \n\n  aspiration num-of-doors   body-style drive-wheels engine-location  \\\n0        std          two  convertible          rwd           front   \n1        std          two  convertible          rwd           front   \n2        std          two    hatchback          rwd           front   \n3        std         four        sedan          fwd           front   \n4        std         four        sedan          4wd           front   \n\n   wheel-base    length     width  height  curb-weight engine-type  \\\n0        88.6  0.811148  0.890278    48.8         2548        dohc   \n1        88.6  0.811148  0.890278    48.8         2548        dohc   \n2        94.5  0.822681  0.909722    52.4         2823        ohcv   \n3        99.8  0.848630  0.919444    54.3         2337         ohc   \n4        99.4  0.848630  0.922222    54.3         2824         ohc   \n\n  num-of-cylinders  engine-size fuel-system  bore  stroke  compression-ratio  \\\n0             four          130        mpfi  3.47    2.68                9.0   \n1             four          130        mpfi  3.47    2.68                9.0   \n2              six          152        mpfi  2.68    3.47                9.0   \n3             four          109        mpfi  3.19    3.40               10.0   \n4             five          136        mpfi  3.19    3.40                8.0   \n\n   horsepower  peak-rpm  city-mpg  highway-mpg    price  city-L/100km  \\\n0       111.0    5000.0        21           27  13495.0     11.190476   \n1       111.0    5000.0        21           27  16500.0     11.190476   \n2       154.0    5000.0        19           26  16500.0     12.368421   \n3       102.0    5500.0        24           30  13950.0      9.791667   \n4       115.0    5500.0        18           22  17450.0     13.055556   \n\n  horsepower-binned  diesel  gas  \n0            Medium       0    1  \n1            Medium       0    1  \n2            Medium       0    1  \n3            Medium       0    1  \n4            Medium       0    1  ",
            "text/html": "<div>\n<style scoped>\n    .dataframe tbody tr th:only-of-type {\n        vertical-align: middle;\n    }\n\n    .dataframe tbody tr th {\n        vertical-align: top;\n    }\n\n    .dataframe thead th {\n        text-align: right;\n    }\n</style>\n<table border=\"1\" class=\"dataframe\">\n  <thead>\n    <tr style=\"text-align: right;\">\n      <th></th>\n      <th>Unnamed: 0.1</th>\n      <th>Unnamed: 0</th>\n      <th>symboling</th>\n      <th>normalized-losses</th>\n      <th>make</th>\n      <th>aspiration</th>\n      <th>num-of-doors</th>\n      <th>body-style</th>\n      <th>drive-wheels</th>\n      <th>engine-location</th>\n      <th>wheel-base</th>\n      <th>length</th>\n      <th>width</th>\n      <th>height</th>\n      <th>curb-weight</th>\n      <th>engine-type</th>\n      <th>num-of-cylinders</th>\n      <th>engine-size</th>\n      <th>fuel-system</th>\n      <th>bore</th>\n      <th>stroke</th>\n      <th>compression-ratio</th>\n      <th>horsepower</th>\n      <th>peak-rpm</th>\n      <th>city-mpg</th>\n      <th>highway-mpg</th>\n      <th>price</th>\n      <th>city-L/100km</th>\n      <th>horsepower-binned</th>\n      <th>diesel</th>\n      <th>gas</th>\n    </tr>\n  </thead>\n  <tbody>\n    <tr>\n      <th>0</th>\n      <td>0</td>\n      <td>0</td>\n      <td>3</td>\n      <td>122</td>\n      <td>alfa-romero</td>\n      <td>std</td>\n      <td>two</td>\n      <td>convertible</td>\n      <td>rwd</td>\n      <td>front</td>\n      <td>88.6</td>\n      <td>0.811148</td>\n      <td>0.890278</td>\n      <td>48.8</td>\n      <td>2548</td>\n      <td>dohc</td>\n      <td>four</td>\n      <td>130</td>\n      <td>mpfi</td>\n      <td>3.47</td>\n      <td>2.68</td>\n      <td>9.0</td>\n      <td>111.0</td>\n      <td>5000.0</td>\n      <td>21</td>\n      <td>27</td>\n      <td>13495.0</td>\n      <td>11.190476</td>\n      <td>Medium</td>\n      <td>0</td>\n      <td>1</td>\n    </tr>\n    <tr>\n      <th>1</th>\n      <td>1</td>\n      <td>1</td>\n      <td>3</td>\n      <td>122</td>\n      <td>alfa-romero</td>\n      <td>std</td>\n      <td>two</td>\n      <td>convertible</td>\n      <td>rwd</td>\n      <td>front</td>\n      <td>88.6</td>\n      <td>0.811148</td>\n      <td>0.890278</td>\n      <td>48.8</td>\n      <td>2548</td>\n      <td>dohc</td>\n      <td>four</td>\n      <td>130</td>\n      <td>mpfi</td>\n      <td>3.47</td>\n      <td>2.68</td>\n      <td>9.0</td>\n      <td>111.0</td>\n      <td>5000.0</td>\n      <td>21</td>\n      <td>27</td>\n      <td>16500.0</td>\n      <td>11.190476</td>\n      <td>Medium</td>\n      <td>0</td>\n      <td>1</td>\n    </tr>\n    <tr>\n      <th>2</th>\n      <td>2</td>\n      <td>2</td>\n      <td>1</td>\n      <td>122</td>\n      <td>alfa-romero</td>\n      <td>std</td>\n      <td>two</td>\n      <td>hatchback</td>\n      <td>rwd</td>\n      <td>front</td>\n      <td>94.5</td>\n      <td>0.822681</td>\n      <td>0.909722</td>\n      <td>52.4</td>\n      <td>2823</td>\n      <td>ohcv</td>\n      <td>six</td>\n      <td>152</td>\n      <td>mpfi</td>\n      <td>2.68</td>\n      <td>3.47</td>\n      <td>9.0</td>\n      <td>154.0</td>\n      <td>5000.0</td>\n      <td>19</td>\n      <td>26</td>\n      <td>16500.0</td>\n      <td>12.368421</td>\n      <td>Medium</td>\n      <td>0</td>\n      <td>1</td>\n    </tr>\n    <tr>\n      <th>3</th>\n      <td>3</td>\n      <td>3</td>\n      <td>2</td>\n      <td>164</td>\n      <td>audi</td>\n      <td>std</td>\n      <td>four</td>\n      <td>sedan</td>\n      <td>fwd</td>\n      <td>front</td>\n      <td>99.8</td>\n      <td>0.848630</td>\n      <td>0.919444</td>\n      <td>54.3</td>\n      <td>2337</td>\n      <td>ohc</td>\n      <td>four</td>\n      <td>109</td>\n      <td>mpfi</td>\n      <td>3.19</td>\n      <td>3.40</td>\n      <td>10.0</td>\n      <td>102.0</td>\n      <td>5500.0</td>\n      <td>24</td>\n      <td>30</td>\n      <td>13950.0</td>\n      <td>9.791667</td>\n      <td>Medium</td>\n      <td>0</td>\n      <td>1</td>\n    </tr>\n    <tr>\n      <th>4</th>\n      <td>4</td>\n      <td>4</td>\n      <td>2</td>\n      <td>164</td>\n      <td>audi</td>\n      <td>std</td>\n      <td>four</td>\n      <td>sedan</td>\n      <td>4wd</td>\n      <td>front</td>\n      <td>99.4</td>\n      <td>0.848630</td>\n      <td>0.922222</td>\n      <td>54.3</td>\n      <td>2824</td>\n      <td>ohc</td>\n      <td>five</td>\n      <td>136</td>\n      <td>mpfi</td>\n      <td>3.19</td>\n      <td>3.40</td>\n      <td>8.0</td>\n      <td>115.0</td>\n      <td>5500.0</td>\n      <td>18</td>\n      <td>22</td>\n      <td>17450.0</td>\n      <td>13.055556</td>\n      <td>Medium</td>\n      <td>0</td>\n      <td>1</td>\n    </tr>\n  </tbody>\n</table>\n</div>"
          },
          "metadata": {}
        }
      ]
    },
    {
      "cell_type": "code",
      "source": "df.drop(['Unnamed: 0.1', 'Unnamed: 0'], axis = 1, inplace = True)\ndf.head()",
      "metadata": {
        "trusted": true
      },
      "execution_count": 227,
      "outputs": [
        {
          "execution_count": 226,
          "output_type": "execute_result",
          "data": {
            "text/plain": "   symboling  normalized-losses         make aspiration num-of-doors  \\\n0          3                122  alfa-romero        std          two   \n1          3                122  alfa-romero        std          two   \n2          1                122  alfa-romero        std          two   \n3          2                164         audi        std         four   \n4          2                164         audi        std         four   \n\n    body-style drive-wheels engine-location  wheel-base    length     width  \\\n0  convertible          rwd           front        88.6  0.811148  0.890278   \n1  convertible          rwd           front        88.6  0.811148  0.890278   \n2    hatchback          rwd           front        94.5  0.822681  0.909722   \n3        sedan          fwd           front        99.8  0.848630  0.919444   \n4        sedan          4wd           front        99.4  0.848630  0.922222   \n\n   height  curb-weight engine-type num-of-cylinders  engine-size fuel-system  \\\n0    48.8         2548        dohc             four          130        mpfi   \n1    48.8         2548        dohc             four          130        mpfi   \n2    52.4         2823        ohcv              six          152        mpfi   \n3    54.3         2337         ohc             four          109        mpfi   \n4    54.3         2824         ohc             five          136        mpfi   \n\n   bore  stroke  compression-ratio  horsepower  peak-rpm  city-mpg  \\\n0  3.47    2.68                9.0       111.0    5000.0        21   \n1  3.47    2.68                9.0       111.0    5000.0        21   \n2  2.68    3.47                9.0       154.0    5000.0        19   \n3  3.19    3.40               10.0       102.0    5500.0        24   \n4  3.19    3.40                8.0       115.0    5500.0        18   \n\n   highway-mpg    price  city-L/100km horsepower-binned  diesel  gas  \n0           27  13495.0     11.190476            Medium       0    1  \n1           27  16500.0     11.190476            Medium       0    1  \n2           26  16500.0     12.368421            Medium       0    1  \n3           30  13950.0      9.791667            Medium       0    1  \n4           22  17450.0     13.055556            Medium       0    1  ",
            "text/html": "<div>\n<style scoped>\n    .dataframe tbody tr th:only-of-type {\n        vertical-align: middle;\n    }\n\n    .dataframe tbody tr th {\n        vertical-align: top;\n    }\n\n    .dataframe thead th {\n        text-align: right;\n    }\n</style>\n<table border=\"1\" class=\"dataframe\">\n  <thead>\n    <tr style=\"text-align: right;\">\n      <th></th>\n      <th>symboling</th>\n      <th>normalized-losses</th>\n      <th>make</th>\n      <th>aspiration</th>\n      <th>num-of-doors</th>\n      <th>body-style</th>\n      <th>drive-wheels</th>\n      <th>engine-location</th>\n      <th>wheel-base</th>\n      <th>length</th>\n      <th>width</th>\n      <th>height</th>\n      <th>curb-weight</th>\n      <th>engine-type</th>\n      <th>num-of-cylinders</th>\n      <th>engine-size</th>\n      <th>fuel-system</th>\n      <th>bore</th>\n      <th>stroke</th>\n      <th>compression-ratio</th>\n      <th>horsepower</th>\n      <th>peak-rpm</th>\n      <th>city-mpg</th>\n      <th>highway-mpg</th>\n      <th>price</th>\n      <th>city-L/100km</th>\n      <th>horsepower-binned</th>\n      <th>diesel</th>\n      <th>gas</th>\n    </tr>\n  </thead>\n  <tbody>\n    <tr>\n      <th>0</th>\n      <td>3</td>\n      <td>122</td>\n      <td>alfa-romero</td>\n      <td>std</td>\n      <td>two</td>\n      <td>convertible</td>\n      <td>rwd</td>\n      <td>front</td>\n      <td>88.6</td>\n      <td>0.811148</td>\n      <td>0.890278</td>\n      <td>48.8</td>\n      <td>2548</td>\n      <td>dohc</td>\n      <td>four</td>\n      <td>130</td>\n      <td>mpfi</td>\n      <td>3.47</td>\n      <td>2.68</td>\n      <td>9.0</td>\n      <td>111.0</td>\n      <td>5000.0</td>\n      <td>21</td>\n      <td>27</td>\n      <td>13495.0</td>\n      <td>11.190476</td>\n      <td>Medium</td>\n      <td>0</td>\n      <td>1</td>\n    </tr>\n    <tr>\n      <th>1</th>\n      <td>3</td>\n      <td>122</td>\n      <td>alfa-romero</td>\n      <td>std</td>\n      <td>two</td>\n      <td>convertible</td>\n      <td>rwd</td>\n      <td>front</td>\n      <td>88.6</td>\n      <td>0.811148</td>\n      <td>0.890278</td>\n      <td>48.8</td>\n      <td>2548</td>\n      <td>dohc</td>\n      <td>four</td>\n      <td>130</td>\n      <td>mpfi</td>\n      <td>3.47</td>\n      <td>2.68</td>\n      <td>9.0</td>\n      <td>111.0</td>\n      <td>5000.0</td>\n      <td>21</td>\n      <td>27</td>\n      <td>16500.0</td>\n      <td>11.190476</td>\n      <td>Medium</td>\n      <td>0</td>\n      <td>1</td>\n    </tr>\n    <tr>\n      <th>2</th>\n      <td>1</td>\n      <td>122</td>\n      <td>alfa-romero</td>\n      <td>std</td>\n      <td>two</td>\n      <td>hatchback</td>\n      <td>rwd</td>\n      <td>front</td>\n      <td>94.5</td>\n      <td>0.822681</td>\n      <td>0.909722</td>\n      <td>52.4</td>\n      <td>2823</td>\n      <td>ohcv</td>\n      <td>six</td>\n      <td>152</td>\n      <td>mpfi</td>\n      <td>2.68</td>\n      <td>3.47</td>\n      <td>9.0</td>\n      <td>154.0</td>\n      <td>5000.0</td>\n      <td>19</td>\n      <td>26</td>\n      <td>16500.0</td>\n      <td>12.368421</td>\n      <td>Medium</td>\n      <td>0</td>\n      <td>1</td>\n    </tr>\n    <tr>\n      <th>3</th>\n      <td>2</td>\n      <td>164</td>\n      <td>audi</td>\n      <td>std</td>\n      <td>four</td>\n      <td>sedan</td>\n      <td>fwd</td>\n      <td>front</td>\n      <td>99.8</td>\n      <td>0.848630</td>\n      <td>0.919444</td>\n      <td>54.3</td>\n      <td>2337</td>\n      <td>ohc</td>\n      <td>four</td>\n      <td>109</td>\n      <td>mpfi</td>\n      <td>3.19</td>\n      <td>3.40</td>\n      <td>10.0</td>\n      <td>102.0</td>\n      <td>5500.0</td>\n      <td>24</td>\n      <td>30</td>\n      <td>13950.0</td>\n      <td>9.791667</td>\n      <td>Medium</td>\n      <td>0</td>\n      <td>1</td>\n    </tr>\n    <tr>\n      <th>4</th>\n      <td>2</td>\n      <td>164</td>\n      <td>audi</td>\n      <td>std</td>\n      <td>four</td>\n      <td>sedan</td>\n      <td>4wd</td>\n      <td>front</td>\n      <td>99.4</td>\n      <td>0.848630</td>\n      <td>0.922222</td>\n      <td>54.3</td>\n      <td>2824</td>\n      <td>ohc</td>\n      <td>five</td>\n      <td>136</td>\n      <td>mpfi</td>\n      <td>3.19</td>\n      <td>3.40</td>\n      <td>8.0</td>\n      <td>115.0</td>\n      <td>5500.0</td>\n      <td>18</td>\n      <td>22</td>\n      <td>17450.0</td>\n      <td>13.055556</td>\n      <td>Medium</td>\n      <td>0</td>\n      <td>1</td>\n    </tr>\n  </tbody>\n</table>\n</div>"
          },
          "metadata": {}
        }
      ]
    },
    {
      "cell_type": "code",
      "source": "df.isnull().sum()",
      "metadata": {
        "trusted": true
      },
      "execution_count": 228,
      "outputs": [
        {
          "execution_count": 227,
          "output_type": "execute_result",
          "data": {
            "text/plain": "symboling            0\nnormalized-losses    0\nmake                 0\naspiration           0\nnum-of-doors         0\nbody-style           0\ndrive-wheels         0\nengine-location      0\nwheel-base           0\nlength               0\nwidth                0\nheight               0\ncurb-weight          0\nengine-type          0\nnum-of-cylinders     0\nengine-size          0\nfuel-system          0\nbore                 0\nstroke               4\ncompression-ratio    0\nhorsepower           0\npeak-rpm             0\ncity-mpg             0\nhighway-mpg          0\nprice                0\ncity-L/100km         0\nhorsepower-binned    1\ndiesel               0\ngas                  0\ndtype: int64"
          },
          "metadata": {}
        }
      ]
    },
    {
      "cell_type": "code",
      "source": "df['stroke'].fillna(df['stroke'].mean(), inplace = True)",
      "metadata": {
        "trusted": true
      },
      "execution_count": 229,
      "outputs": []
    },
    {
      "cell_type": "code",
      "source": "df['stroke'].fillna(df['stroke'].mean(), inplace=True)\nbin_min = df[df['horsepower-binned'] == 'Low']['horsepower'].max()\nbin_max = df[df['horsepower-binned'] == 'High']['horsepower'].min()\n\ndef fill_bins(row, column, column_bin, bin_min, bin_max):\n    if row[column] < bin_min:\n        row[column_bin] = 'Low'\n    elif row[column] > bin_max:\n        row[column_bin] = 'High'\n    else:\n        row[column_bin] = 'Medium'\n\n    return row\n\n#df = df.apply(lambda row: fill_bins(row, 'horsepower', 'horsepower-binned', bin_min, bin_max), axis=1)",
      "metadata": {
        "trusted": true
      },
      "execution_count": 230,
      "outputs": []
    },
    {
      "cell_type": "code",
      "source": "df = df.apply(lambda row: fill_bins(row, 'horsepower', 'horsepower-binned', bin_min, bin_max), axis = 1)\ndf.isnull().sum().sum()",
      "metadata": {
        "trusted": true
      },
      "execution_count": 231,
      "outputs": [
        {
          "execution_count": 230,
          "output_type": "execute_result",
          "data": {
            "text/plain": "0"
          },
          "metadata": {}
        }
      ]
    },
    {
      "cell_type": "code",
      "source": "num_affection = get_strong_week_affection(df, 'price')['strong_affection']\nnum_affection",
      "metadata": {
        "trusted": true
      },
      "execution_count": 232,
      "outputs": [
        {
          "execution_count": 231,
          "output_type": "execute_result",
          "data": {
            "text/plain": "[{'name': 'curb-weight',\n  'coef': 0.8344145257702845,\n  'p_value': 2.1895772388939654e-53},\n {'name': 'engine-size',\n  'coef': 0.8723351674455188,\n  'p_value': 9.26549162219582e-64},\n {'name': 'horsepower',\n  'coef': 0.8095745670036559,\n  'p_value': 6.36905742825956e-48}]"
          },
          "metadata": {}
        }
      ]
    },
    {
      "cell_type": "code",
      "source": "num_df = [i['name'] for i in num_affection]\nnum_df",
      "metadata": {
        "trusted": true
      },
      "execution_count": 233,
      "outputs": [
        {
          "execution_count": 232,
          "output_type": "execute_result",
          "data": {
            "text/plain": "['curb-weight', 'engine-size', 'horsepower']"
          },
          "metadata": {}
        }
      ]
    },
    {
      "cell_type": "code",
      "source": "obj_df = get_category_influence(df, target_column='price')[0]\nobj_df",
      "metadata": {
        "trusted": true
      },
      "execution_count": 234,
      "outputs": [
        {
          "execution_count": 233,
          "output_type": "execute_result",
          "data": {
            "text/plain": "['make',\n 'drive-wheels',\n 'engine-type',\n 'num-of-cylinders',\n 'horsepower-binned',\n 'aspiration',\n 'engine-location']"
          },
          "metadata": {}
        }
      ]
    },
    {
      "cell_type": "code",
      "source": "from sklearn.linear_model import LinearRegression\nfrom sklearn.pipeline import Pipeline\nfrom sklearn.preprocessing import StandardScaler, PolynomialFeatures, LabelEncoder\nfrom sklearn.metrics import mean_squared_error, r2_score",
      "metadata": {
        "trusted": true
      },
      "execution_count": 235,
      "outputs": []
    },
    {
      "cell_type": "code",
      "source": "def monomial_metrics(_input: pd.Series, _output: pd.Series,\n                   model = LinearRegression(), ) -> dict:\n    if len(_input.shape) == 1:\n        _name = _input.name\n        _input = np.reshape(_input.values, (-1, 1))\n    else: \n        _name = ', '.join(_input.columns)\n\n    model.fit(_input, _output)\n    _pred = model.predict(_input)\n\n    mse = mean_squared_error(_output, _pred)\n    r2 = r2_score(_output, _pred)\n    \n    return {'variable': _name,\n            'MSE': mse,\n            'R^2': r2}",
      "metadata": {
        "trusted": true
      },
      "execution_count": 236,
      "outputs": []
    },
    {
      "cell_type": "code",
      "source": "monomial_metrics(df[num_df], df['price'])",
      "metadata": {
        "trusted": true
      },
      "execution_count": 237,
      "outputs": [
        {
          "execution_count": 236,
          "output_type": "execute_result",
          "data": {
            "text/plain": "{'variable': 'curb-weight, engine-size, horsepower',\n 'MSE': 11994814.244502736,\n 'R^2': 0.8091263794284135}"
          },
          "metadata": {}
        }
      ]
    },
    {
      "cell_type": "code",
      "source": "monomial_metrics(df['curb-weight'], df['price'])",
      "metadata": {
        "trusted": true
      },
      "execution_count": 238,
      "outputs": [
        {
          "execution_count": 237,
          "output_type": "execute_result",
          "data": {
            "text/plain": "{'variable': 'curb-weight',\n 'MSE': 19088303.525747165,\n 'R^2': 0.6962476008164488}"
          },
          "metadata": {}
        }
      ]
    },
    {
      "cell_type": "code",
      "source": "def polinomial_metrics(_input: pd.Series, _output: pd.Series,\n                      degree = 1, model = None, csr_matrix = False) -> dict:\n\n    if model == None:\n        model = Pipeline([\n            ('scale', StandardScaler()),\n            ('polynomial', PolynomialFeatures(degree=degree)),\n            ('model', LinearRegression())\n        ])\n        \n    if csr_matrix == True:\n        _name = 'all'\n        \n    elif len(_input.shape) == 1:\n        _name = _input.name\n        _input = np.reshape(_input.values, (-1, 1))\n    else: \n        _name = ', '.join(_input.columns)\n        \n    \n\n    model.fit(_input, _output)\n    _pred = model.predict(_input)\n\n    mse = mean_squared_error(_output, _pred)\n    r2 = r2_score(_output, _pred)\n    \n    return {'variable': _name,\n            'degree': degree,\n            'MSE': mse,\n            'R^2': r2}\n        \n    ",
      "metadata": {
        "trusted": true
      },
      "execution_count": 239,
      "outputs": []
    },
    {
      "cell_type": "code",
      "source": "polinomial_metrics(df[num_df[0]], df['price'], degree = 1)",
      "metadata": {
        "trusted": true
      },
      "execution_count": 240,
      "outputs": [
        {
          "execution_count": 239,
          "output_type": "execute_result",
          "data": {
            "text/plain": "{'variable': 'curb-weight',\n 'degree': 1,\n 'MSE': 19088303.525747165,\n 'R^2': 0.6962476008164488}"
          },
          "metadata": {}
        }
      ]
    },
    {
      "cell_type": "code",
      "source": "total = {}\nindex = 0\nfor degree in range(1, 5):\n    for i in num_df:\n        total[index] = polinomial_metrics(df[i], df['price'], degree = degree)\n        index += 1\n        \n    total[index] = polinomial_metrics(df[num_df], df['price'], degree = degree)\n    index += 1\n    \n    ",
      "metadata": {
        "trusted": true
      },
      "execution_count": 241,
      "outputs": []
    },
    {
      "cell_type": "code",
      "source": "pd.DataFrame.from_dict(total).T\\\n.sort_values(['R^2'], ascending = False)",
      "metadata": {
        "trusted": true
      },
      "execution_count": 242,
      "outputs": [
        {
          "execution_count": 241,
          "output_type": "execute_result",
          "data": {
            "text/plain": "                                variable degree              MSE       R^2\n11  curb-weight, engine-size, horsepower      3   7233959.768192  0.884886\n7   curb-weight, engine-size, horsepower      2  10085920.965355  0.839503\n3   curb-weight, engine-size, horsepower      1  11994814.244503  0.809126\n13                           engine-size      4  13187054.245012  0.790154\n9                            engine-size      3  13187196.083556  0.790152\n5                            engine-size      2  15016546.995871  0.761042\n1                            engine-size      1  15021126.025174  0.760969\n15  curb-weight, engine-size, horsepower      4  15567841.191542  0.752269\n12                           curb-weight      4  17575054.567307  0.720328\n8                            curb-weight      3  17591002.681222  0.720074\n4                            curb-weight      2  17610205.195012  0.719769\n0                            curb-weight      1  19088303.525747  0.696248\n14                            horsepower      4  20931924.567464   0.66691\n10                            horsepower      3  21190956.847144  0.662788\n6                             horsepower      2  21494736.314264  0.657954\n2                             horsepower      1  21654544.398254  0.655411",
            "text/html": "<div>\n<style scoped>\n    .dataframe tbody tr th:only-of-type {\n        vertical-align: middle;\n    }\n\n    .dataframe tbody tr th {\n        vertical-align: top;\n    }\n\n    .dataframe thead th {\n        text-align: right;\n    }\n</style>\n<table border=\"1\" class=\"dataframe\">\n  <thead>\n    <tr style=\"text-align: right;\">\n      <th></th>\n      <th>variable</th>\n      <th>degree</th>\n      <th>MSE</th>\n      <th>R^2</th>\n    </tr>\n  </thead>\n  <tbody>\n    <tr>\n      <th>11</th>\n      <td>curb-weight, engine-size, horsepower</td>\n      <td>3</td>\n      <td>7233959.768192</td>\n      <td>0.884886</td>\n    </tr>\n    <tr>\n      <th>7</th>\n      <td>curb-weight, engine-size, horsepower</td>\n      <td>2</td>\n      <td>10085920.965355</td>\n      <td>0.839503</td>\n    </tr>\n    <tr>\n      <th>3</th>\n      <td>curb-weight, engine-size, horsepower</td>\n      <td>1</td>\n      <td>11994814.244503</td>\n      <td>0.809126</td>\n    </tr>\n    <tr>\n      <th>13</th>\n      <td>engine-size</td>\n      <td>4</td>\n      <td>13187054.245012</td>\n      <td>0.790154</td>\n    </tr>\n    <tr>\n      <th>9</th>\n      <td>engine-size</td>\n      <td>3</td>\n      <td>13187196.083556</td>\n      <td>0.790152</td>\n    </tr>\n    <tr>\n      <th>5</th>\n      <td>engine-size</td>\n      <td>2</td>\n      <td>15016546.995871</td>\n      <td>0.761042</td>\n    </tr>\n    <tr>\n      <th>1</th>\n      <td>engine-size</td>\n      <td>1</td>\n      <td>15021126.025174</td>\n      <td>0.760969</td>\n    </tr>\n    <tr>\n      <th>15</th>\n      <td>curb-weight, engine-size, horsepower</td>\n      <td>4</td>\n      <td>15567841.191542</td>\n      <td>0.752269</td>\n    </tr>\n    <tr>\n      <th>12</th>\n      <td>curb-weight</td>\n      <td>4</td>\n      <td>17575054.567307</td>\n      <td>0.720328</td>\n    </tr>\n    <tr>\n      <th>8</th>\n      <td>curb-weight</td>\n      <td>3</td>\n      <td>17591002.681222</td>\n      <td>0.720074</td>\n    </tr>\n    <tr>\n      <th>4</th>\n      <td>curb-weight</td>\n      <td>2</td>\n      <td>17610205.195012</td>\n      <td>0.719769</td>\n    </tr>\n    <tr>\n      <th>0</th>\n      <td>curb-weight</td>\n      <td>1</td>\n      <td>19088303.525747</td>\n      <td>0.696248</td>\n    </tr>\n    <tr>\n      <th>14</th>\n      <td>horsepower</td>\n      <td>4</td>\n      <td>20931924.567464</td>\n      <td>0.66691</td>\n    </tr>\n    <tr>\n      <th>10</th>\n      <td>horsepower</td>\n      <td>3</td>\n      <td>21190956.847144</td>\n      <td>0.662788</td>\n    </tr>\n    <tr>\n      <th>6</th>\n      <td>horsepower</td>\n      <td>2</td>\n      <td>21494736.314264</td>\n      <td>0.657954</td>\n    </tr>\n    <tr>\n      <th>2</th>\n      <td>horsepower</td>\n      <td>1</td>\n      <td>21654544.398254</td>\n      <td>0.655411</td>\n    </tr>\n  </tbody>\n</table>\n</div>"
          },
          "metadata": {}
        }
      ]
    },
    {
      "cell_type": "code",
      "source": "obj_df",
      "metadata": {
        "trusted": true
      },
      "execution_count": 243,
      "outputs": [
        {
          "execution_count": 242,
          "output_type": "execute_result",
          "data": {
            "text/plain": "['make',\n 'drive-wheels',\n 'engine-type',\n 'num-of-cylinders',\n 'horsepower-binned',\n 'aspiration',\n 'engine-location']"
          },
          "metadata": {}
        }
      ]
    },
    {
      "cell_type": "code",
      "source": "def preprocesing_dataX(num_df: pd.Series, obj_df:pd.Series, model = None):\n    \n    X = pd.DataFrame()\n    ## obj_df\n    for i, obj in enumerate(obj_df.columns):\n        label = LabelEncoder()\n        encode = label.fit_transform(obj_df[obj])\n        X[obj] = encode\n        \n    ## num_df\n    scale = StandardScaler()\n    X[num_df.columns] = scale.fit_transform(num_df)\n    \n    ## column transformer\n    ct = ColumnTransformer([('town', OneHotEncoder(), [0, 1, 2])], remainder = 'passthrough')\n    X = ct.fit_transform(X)\n    \n    return X\n        ",
      "metadata": {
        "trusted": true
      },
      "execution_count": 244,
      "outputs": []
    },
    {
      "cell_type": "code",
      "source": "preprocesing_dataX(df[num_df], df[obj_df])",
      "metadata": {
        "trusted": true
      },
      "execution_count": 245,
      "outputs": [
        {
          "execution_count": 244,
          "output_type": "execute_result",
          "data": {
            "text/plain": "<201x38 sparse matrix of type '<class 'numpy.float64'>'\n\twith 1621 stored elements in Compressed Sparse Row format>"
          },
          "metadata": {}
        }
      ]
    },
    {
      "cell_type": "code",
      "source": "polinomial_metrics(X, y, csr_matrix = True, model=LinearRegression())",
      "metadata": {
        "trusted": true
      },
      "execution_count": 246,
      "outputs": [
        {
          "execution_count": 245,
          "output_type": "execute_result",
          "data": {
            "text/plain": "{'variable': 'all',\n 'degree': 1,\n 'MSE': 80949.65269160659,\n 'R^2': 0.9987118472217825}"
          },
          "metadata": {}
        }
      ]
    },
    {
      "cell_type": "code",
      "source": "",
      "metadata": {},
      "execution_count": null,
      "outputs": []
    }
  ]
}